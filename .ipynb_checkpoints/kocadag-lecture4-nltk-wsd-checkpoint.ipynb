{
 "cells": [
  {
   "cell_type": "code",
   "execution_count": 17,
   "id": "0b5d4d57-b00f-454d-abb2-0ffc988dd0e1",
   "metadata": {},
   "outputs": [],
   "source": [
    "from nltk.wsd import lesk"
   ]
  },
  {
   "cell_type": "code",
   "execution_count": 46,
   "id": "1eac3b56-2f01-4b6a-9d8f-94c3767009eb",
   "metadata": {},
   "outputs": [
    {
     "name": "stdout",
     "output_type": "stream",
     "text": [
      "This Solution isnt working, as the first sentence dont get recognized correctly \n",
      "\n",
      "A rock is classified according to characteristics such as mineral and chemical composition\n",
      "(figurative) someone who is strong and stable and dependable; ; --Gospel According to Matthew\n",
      "\n",
      "Queen are a British rock band formed in London in 1970\n",
      "a genre of popular music originating in the 1950s; a blend of black rhythm-and-blues with white country-and-western\n",
      "\n"
     ]
    }
   ],
   "source": [
    "print('This Solution isnt working, as the first sentence dont get recognized correctly \\n')\n",
    "sentences =[\"A rock is classified according to characteristics such as mineral and chemical composition\" , \"Queen are a British rock band formed in London in 1970\"]\n",
    "for sent in sentences:\n",
    "    print(sent)\n",
    "    syn = lesk(sent.split(), \"rock\", 'n')\n",
    "    print(syn.definition())\n",
    "    print()"
   ]
  },
  {
   "cell_type": "code",
   "execution_count": 48,
   "id": "aa369989-c73d-4691-9e50-619fbb09246b",
   "metadata": {},
   "outputs": [
    {
     "name": "stdout",
     "output_type": "stream",
     "text": [
      "Ideally lesk should find that rock.n.01 is the fitting synset for rock in sentence 1 \n",
      "\n",
      "Synset('rock.n.01')\n",
      "a lump or mass of hard consolidated mineral matter\n",
      "\n",
      "Synset('rock.n.02')\n",
      "material consisting of the aggregate of minerals like those making up the Earth's crust\n",
      "\n",
      "Synset('rock.n.03')\n",
      "United States gynecologist and devout Catholic who conducted the first clinical trials of the oral contraceptive pill (1890-1984)\n",
      "\n",
      "Synset('rock.n.04')\n",
      "(figurative) someone who is strong and stable and dependable; ; --Gospel According to Matthew\n",
      "\n",
      "Synset('rock_candy.n.01')\n",
      "hard bright-colored stick candy (typically flavored with peppermint)\n",
      "\n",
      "Synset('rock_'n'_roll.n.01')\n",
      "a genre of popular music originating in the 1950s; a blend of black rhythm-and-blues with white country-and-western\n",
      "\n",
      "Synset('rock.n.07')\n",
      "pitching dangerously to one side\n",
      "\n",
      "Synset('rock.v.01')\n",
      "move back and forth or sideways\n",
      "\n",
      "Synset('rock.v.02')\n",
      "cause to move back and forth\n",
      "\n"
     ]
    }
   ],
   "source": [
    "print(\"Ideally lesk should find that rock.n.01 is the fitting synset for rock in sentence 1 \\n\")\n",
    "\n",
    "synsets = wordnet.synsets(\"rock\")\n",
    "for s in synsets:\n",
    "    print(s)\n",
    "    print(s.definition())\n",
    "    print()"
   ]
  }
 ],
 "metadata": {
  "kernelspec": {
   "display_name": "Python 3",
   "language": "python",
   "name": "python3"
  },
  "language_info": {
   "codemirror_mode": {
    "name": "ipython",
    "version": 3
   },
   "file_extension": ".py",
   "mimetype": "text/x-python",
   "name": "python",
   "nbconvert_exporter": "python",
   "pygments_lexer": "ipython3",
   "version": "3.9.2"
  }
 },
 "nbformat": 4,
 "nbformat_minor": 5
}

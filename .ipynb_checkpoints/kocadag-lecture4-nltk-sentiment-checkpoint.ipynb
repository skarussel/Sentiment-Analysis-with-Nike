{
 "cells": [
  {
   "cell_type": "code",
   "execution_count": 113,
   "id": "3c4f3332-db42-474f-8dc8-dd87a5e23c91",
   "metadata": {},
   "outputs": [],
   "source": [
    "import pandas as pd\n",
    "from nltk.corpus import opinion_lexicon\n",
    "from nltk.sentiment import SentimentIntensityAnalyzer\n",
    "from nltk.sentiment.util import demo_liu_hu_lexicon"
   ]
  },
  {
   "cell_type": "code",
   "execution_count": 28,
   "id": "0f137a42-e7cb-4fb7-8c8d-4a1e1a17026e",
   "metadata": {},
   "outputs": [],
   "source": [
    "data = pd.read_csv('dataset_sentiment_analysis.csv', names=['what', 'ID', 'TimeStamp', 'Topic', 'Username', 'Text'])\n",
    "data['Class'] = data['Text'].apply(lambda x: opinion_map(x))"
   ]
  },
  {
   "cell_type": "code",
   "execution_count": 86,
   "id": "b3f2a63d-555f-4c68-8881-ea4b1bdd62e1",
   "metadata": {},
   "outputs": [],
   "source": [
    "def opinion_map(text):\n",
    "    neg = [word for word in text.split() if word in opinion_lexicon.negative()]\n",
    "    pos = [word for word in text.split() if word in opinion_lexicon.positive()]\n",
    "    if (len(pos)==0 and len(neg)==0):\n",
    "        return 0\n",
    "    if (len(pos)>len(neg)):\n",
    "        return 1\n",
    "    else: return -1"
   ]
  },
  {
   "cell_type": "code",
   "execution_count": 97,
   "id": "c7951c7e-666d-4abe-8590-954ce4878501",
   "metadata": {},
   "outputs": [
    {
     "name": "stdout",
     "output_type": "stream",
     "text": [
      "Tweets for topic Nike are \n",
      " Positiv: 16% \n",
      " Negativ: 8% \n",
      " Neutral: 76%\n"
     ]
    }
   ],
   "source": [
    "neutral, pos, neg = data.loc[data['Topic']=='nike'].Class.value_counts()\n",
    "rel_neutral = neutral/((neutral+pos+neg))\n",
    "rel_pos = pos/((neutral+pos+neg))\n",
    "rel_neg = neg/((neutral+pos+neg))\n",
    "print(f\"Tweets for topic Nike are \\n Positiv: {rel_pos:.0%} \\n Negativ: {rel_neg:.0%} \\n Neutral: {rel_neutral:.0%}\")"
   ]
  },
  {
   "cell_type": "code",
   "execution_count": 134,
   "id": "781a3274-b6d2-4ecb-9446-6d6e7ad6729e",
   "metadata": {},
   "outputs": [
    {
     "name": "stdout",
     "output_type": "stream",
     "text": [
      "Just bought my tickets for the 2010 FIFA World Cup in South Africa. Its going to be a great summer. http://bit.ly/9GEZI\n",
      "Positive\n"
     ]
    },
    {
     "data": {
      "image/png": "[encoded data removed]",
      "text/plain": [
       "<Figure size 432x288 with 2 Axes>"
      ]
     },
     "metadata": {
      "needs_background": "light"
     },
     "output_type": "display_data"
    }
   ],
   "source": [
    "world_cup_tweet = data.loc[data.Topic=='world cup 2010'].Text.values[0]\n",
    "print(world_cup_tweet)\n",
    "demo_liu_hu_lexicon(world_cup_tweet, True)"
   ]
  },
  {
   "cell_type": "code",
   "execution_count": 153,
   "id": "73a2afcf-f731-468c-afbc-0f3661cefbde",
   "metadata": {},
   "outputs": [
    {
     "name": "stdout",
     "output_type": "stream",
     "text": [
      "The average compound for tweets about dentists is -0.117\n"
     ]
    }
   ],
   "source": [
    "from nltk.sentiment.vader import SentimentIntensityAnalyzer\n",
    "sid = SentimentIntensityAnalyzer()\n",
    "data ['Compound'] = data.loc[data.Topic=='dentist'].Text.map(lambda x: (sid.polarity_scores(x))['compound'])\n",
    "print(f\"The average compound for tweets about dentists is {data.loc[data.Topic=='dentist'].Compound.mean():.3f}\")"
   ]
  },
  {
   "cell_type": "markdown",
   "id": "60178567-1c54-4dde-93d1-df029cdbd225",
   "metadata": {},
   "source": [
    "### What is Compound Score? \n",
    "\n",
    "The Compound score is a metric that calculates the sum of all the lexicon ratings which have been normalized between -1(most extreme negative) and +1 (most extreme positive).\n",
    "\n",
    "- positive sentiment : (compound score >= 0.05)\n",
    "- neutral sentiment : (compound score > -0.05) and (compound score < 0.05)\n",
    "- negative sentiment : (compound score <= -0.05)"
   ]
  }
 ],
 "metadata": {
  "kernelspec": {
   "display_name": "Python 3",
   "language": "python",
   "name": "python3"
  },
  "language_info": {
   "codemirror_mode": {
    "name": "ipython",
    "version": 3
   },
   "file_extension": ".py",
   "mimetype": "text/x-python",
   "name": "python",
   "nbconvert_exporter": "python",
   "pygments_lexer": "ipython3",
   "version": "3.9.2"
  }
 },
 "nbformat": 4,
 "nbformat_minor": 5
}
